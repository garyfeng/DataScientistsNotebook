{
 "cells": [
  {
   "cell_type": "markdown",
   "metadata": {},
   "source": [
    "# Using Python and SQL with Microsoft SQL Server\n",
    "\n",
    "In this notebook we illustrate how to connect to MS SQL Server via Python in order to convert SQL SELECT queires into pandas data frames.\n",
    "\n",
    "## Introduction\n",
    "\n",
    "This demo is based on https://github.com/garyfeng/DataScientistsNotebook. We use `docker-compose` to create a docker cluster with \n",
    "- mssql: Microsoft SQL Server v2017 running on linux\n",
    "- jupyter data science notebook server, as a docker\n",
    "\n",
    "To install:\n",
    "- Make sure you have `Docker` and `git` installed on your computer\n",
    "- In a terminal, `cd` to the folder where you wish to have this project setup, do `git clone https://github.com/garyfeng/DataScientistsNotebook.git`\n",
    "- Go to the downloaded folder, and edit the `.env` file to change the directories to your setup.\n",
    "- Go back to the terminal, do `docker-compose build` and make sure it succeeds\n",
    "\n",
    "To test:\n",
    "- then do `docker-compose up` and make sure all the logs are ok, no errors.\n",
    "- open your browser to hppts://localhost:8888 and login using the Jupyter password set up in the `.env` file\n",
    "- you should see the `work` folder. Click in, and open new notebooks, etc. Note that the MS SQL connection may fail, because you need the IP address of the SQL Server (that is not \"localhost\"). See below.\n",
    "- go back to the terminal, do `docker-compose down` to shut down things\n",
    "\n",
    "To run:\n",
    "- in the terminal, do `docker-compose up -d` to avoid the verbose logs\n",
    "- launch the browser the same way you did in test\n",
    "- you need to find out the IP address for MS SQL Server. In terminal, type `ipconfig` for Windows users or `ifconfig` for mac and linux machines. You will have to look for something like `192.168.56.1` in the printout. On Windows this is typically associated with `VirtualBox`; on macs or linux machines this is typically associated with some words about \"virtual\" but not easy to find. It doesn't hurt to try them all - one of them is for sure to work.\n",
    "- copy that IP address, paste it to the `server` address below in the notebook cell (until I find an automatic method).\n",
    "- now run the `pymssql` code to try to connect, see whether it gives error. Repeate with all IP address until you find one that works ;-)\n",
    "- you can now run the SQL exercises. Your Jupyter notebooks will be saved in your `python/notebooks` folder. \n",
    "- shut down using `docker-compose down` in the terminal; make sure you saved the notebooks first. Your saved notebooks will remain there next time you start the docker cluster, though you need to re-run them as the python environment has been cleared. \n",
    "\n",
    "## Set up \n",
    "\n",
    "Once you are in the Jupyter environment, you may need to install `pymssql`. "
   ]
  },
  {
   "cell_type": "code",
   "execution_count": 1,
   "metadata": {},
   "outputs": [
    {
     "name": "stdout",
     "output_type": "stream",
     "text": [
      "Collecting pymssql\n",
      "  Downloading pymssql-2.1.4-cp37-cp37m-manylinux1_x86_64.whl (1.4 MB)\n",
      "\u001b[K     |████████████████████████████████| 1.4 MB 2.3 MB/s eta 0:00:01\n",
      "\u001b[?25hInstalling collected packages: pymssql\n",
      "Successfully installed pymssql-2.1.4\n"
     ]
    }
   ],
   "source": [
    "! pip install pymssql"
   ]
  },
  {
   "cell_type": "markdown",
   "metadata": {},
   "source": [
    "### Using PyMSSQL\n"
   ]
  },
  {
   "cell_type": "code",
   "execution_count": 2,
   "metadata": {},
   "outputs": [
    {
     "name": "stderr",
     "output_type": "stream",
     "text": [
      "/opt/conda/lib/python3.7/site-packages/ipykernel_launcher.py:2: DeprecationWarning: Using or importing the ABCs from 'collections' instead of from 'collections.abc' is deprecated since Python 3.3,and in 3.9 it will stop working\n",
      "  \n"
     ]
    }
   ],
   "source": [
    "from os import getenv\n",
    "import pymssql\n",
    "import pandas as pd"
   ]
  },
  {
   "cell_type": "code",
   "execution_count": 3,
   "metadata": {},
   "outputs": [],
   "source": [
    "# parameters to use for MS SQL Server connection\n",
    "server = getenv(\"MSSQL_SERVERIP\")\n",
    "user = getenv(\"MSSQL_USER\")\n",
    "password = getenv(\"MSSQL_PASSWORD\")\n"
   ]
  },
  {
   "cell_type": "code",
   "execution_count": 5,
   "metadata": {},
   "outputs": [
    {
     "data": {
      "text/plain": [
       "<pymssql.Connection at 0x7f9e47cf8280>"
      ]
     },
     "execution_count": 5,
     "metadata": {},
     "output_type": "execute_result"
    }
   ],
   "source": [
    "pymssql.connect(server, user, password, \"\")"
   ]
  },
  {
   "cell_type": "markdown",
   "metadata": {},
   "source": [
    "### Using Alchemy\n",
    "\n",
    "Which defaults to PyMSSQL anyways."
   ]
  },
  {
   "cell_type": "code",
   "execution_count": null,
   "metadata": {},
   "outputs": [],
   "source": [
    "from sqlalchemy import create_engine\n",
    "engine = create_engine('mssql+pymssql://{}:{}@{}:1433'.format(user, password, server))\n",
    "conn = engine.connect()"
   ]
  },
  {
   "cell_type": "markdown",
   "metadata": {},
   "source": [
    "## Create some data in the SQL Server\n",
    "\n",
    "We now use `pymssql` to create a database `tempdb` and a data table `persons` therein. Will also put in some sample data to play with. \n",
    "\n",
    "We connect, do the above using SQL commands, and then close the connection. We also do a `Select` SQL query there and illustrate how to iterate the results row by row. But going forward we will use `pandas` to convert data into a `dataframe` directly, without having to deal with them one row at a time."
   ]
  },
  {
   "cell_type": "code",
   "execution_count": 6,
   "metadata": {},
   "outputs": [
    {
     "name": "stdout",
     "output_type": "stream",
     "text": [
      "ID=1, Name=John Smith\n"
     ]
    }
   ],
   "source": [
    "\n",
    "# server = getenv(\"PYMSSQL_TEST_SERVER\")\n",
    "# user = getenv(\"PYMSSQL_TEST_USERNAME\")\n",
    "# password = getenv(\"PYMSSQL_TEST_PASSWORD\")\n",
    "\n",
    "conn = pymssql.connect(server, user, password, \"tempdb\")\n",
    "\n",
    "cursor = conn.cursor()\n",
    "cursor.execute(\"\"\"\n",
    "IF OBJECT_ID('persons', 'U') IS NOT NULL\n",
    "    DROP TABLE persons\n",
    "CREATE TABLE persons (\n",
    "    id INT NOT NULL,\n",
    "    name VARCHAR(100),\n",
    "    salesrep VARCHAR(100),\n",
    "    PRIMARY KEY(id)\n",
    ")\n",
    "\"\"\")\n",
    "cursor.executemany(\n",
    "    \"INSERT INTO persons VALUES (%d, %s, %s)\",\n",
    "    [(1, 'John Smith', 'John Doe'),\n",
    "     (2, 'Jane Doe', 'Joe Dog'),\n",
    "     (3, 'Mike T.', 'Sarah H.')])\n",
    "# you must call commit() to persist your data if you don't set autocommit to True\n",
    "conn.commit()\n",
    "\n",
    "cursor.execute('SELECT * FROM persons WHERE salesrep=%s', 'John Doe')\n",
    "row = cursor.fetchone()\n",
    "while row:\n",
    "    print(\"ID=%d, Name=%s\" % (row[0], row[1]))\n",
    "    row = cursor.fetchone()\n",
    "\n",
    "conn.close()\n"
   ]
  },
  {
   "cell_type": "markdown",
   "metadata": {},
   "source": [
    "## SQL query using Pandas read_sql_query\n",
    "\n",
    "Pandas supports the function [read_sql_query](https://pandas.pydata.org/pandas-docs/stable/reference/api/pandas.read_sql.html) to execute a SQL `Select` query and convert the data into a data frame. See tutorial at https://datatofish.com/sql-to-pandas-dataframe/"
   ]
  },
  {
   "cell_type": "code",
   "execution_count": 7,
   "metadata": {},
   "outputs": [
    {
     "data": {
      "text/html": [
       "<div>\n",
       "<style scoped>\n",
       "    .dataframe tbody tr th:only-of-type {\n",
       "        vertical-align: middle;\n",
       "    }\n",
       "\n",
       "    .dataframe tbody tr th {\n",
       "        vertical-align: top;\n",
       "    }\n",
       "\n",
       "    .dataframe thead th {\n",
       "        text-align: right;\n",
       "    }\n",
       "</style>\n",
       "<table border=\"1\" class=\"dataframe\">\n",
       "  <thead>\n",
       "    <tr style=\"text-align: right;\">\n",
       "      <th></th>\n",
       "      <th>id</th>\n",
       "      <th>name</th>\n",
       "      <th>salesrep</th>\n",
       "    </tr>\n",
       "  </thead>\n",
       "  <tbody>\n",
       "    <tr>\n",
       "      <th>0</th>\n",
       "      <td>1</td>\n",
       "      <td>John Smith</td>\n",
       "      <td>John Doe</td>\n",
       "    </tr>\n",
       "    <tr>\n",
       "      <th>1</th>\n",
       "      <td>2</td>\n",
       "      <td>Jane Doe</td>\n",
       "      <td>Joe Dog</td>\n",
       "    </tr>\n",
       "    <tr>\n",
       "      <th>2</th>\n",
       "      <td>3</td>\n",
       "      <td>Mike T.</td>\n",
       "      <td>Sarah H.</td>\n",
       "    </tr>\n",
       "  </tbody>\n",
       "</table>\n",
       "</div>"
      ],
      "text/plain": [
       "   id        name  salesrep\n",
       "0   1  John Smith  John Doe\n",
       "1   2    Jane Doe   Joe Dog\n",
       "2   3     Mike T.  Sarah H."
      ]
     },
     "execution_count": 7,
     "metadata": {},
     "output_type": "execute_result"
    }
   ],
   "source": [
    "import pandas as pd\n",
    "\n",
    "conn = pymssql.connect(server, user, password, \"tempdb\")\n",
    "\n",
    "SQL_Query = pd.read_sql_query(\n",
    "    '''SELECT * FROM persons''', conn\n",
    ")\n",
    "df = pd.DataFrame(SQL_Query)\n",
    "df\n"
   ]
  },
  {
   "cell_type": "code",
   "execution_count": null,
   "metadata": {},
   "outputs": [],
   "source": []
  }
 ],
 "metadata": {
  "kernelspec": {
   "display_name": "Python 3",
   "language": "python",
   "name": "python3"
  },
  "language_info": {
   "codemirror_mode": {
    "name": "ipython",
    "version": 3
   },
   "file_extension": ".py",
   "mimetype": "text/x-python",
   "name": "python",
   "nbconvert_exporter": "python",
   "pygments_lexer": "ipython3",
   "version": "3.7.6"
  }
 },
 "nbformat": 4,
 "nbformat_minor": 4
}
